{
 "cells": [
  {
   "cell_type": "code",
   "execution_count": 13,
   "metadata": {},
   "outputs": [],
   "source": [
    "import numpy as np\n",
    "import pandas as pd\n",
    "import matplotlib.pyplot as plt\n",
    "\n",
    "def format_data(data,year,threshold):\n",
    "\t'''\n",
    "\tThis function returns a dataset with countries as rows, and \n",
    "\tindicators (e.g population, attendance rate, etc) as columns.\n",
    "\n",
    "\tThe year parameter specifies which year that information comes from.\n",
    "\t(I noticed that 2010 and 2015 have a decent amount of data).\n",
    "\n",
    "\tMany of the countries don't have much data, so I included a threshold.\n",
    "\tIf the threshold is 800, for instance, that means every country\n",
    "\tincluded in the dataset must have a non-empty value for at least 800 out\n",
    "\tof ~3600 attributes.\n",
    "\t\n",
    "\t'''\n",
    "\tcountry_names = data[\"Country Name\"].unique()\n",
    "\tcountry_names = country_names[25:]\n",
    "\tcountry_names = country_names.tolist()\n",
    "\tcountries = []\n",
    "\tfor i in range(len(country_names)):\n",
    "\t\td = data[data[\"Country Name\"] == country_names[i]]\n",
    "\t\tif len(d[str(year)][d[str(year)]==d[str(year)]]) > threshold:\n",
    "\t\t\tcountries.append(country_names[i])\n",
    "\n",
    "\tindicators = data[\"Indicator Name\"].unique().tolist()\n",
    "\n",
    "\tindicator_list = []\n",
    "\n",
    "\tfor i in countries:\n",
    "\t\td = data[data[\"Country Name\"] == i]\n",
    "\t\tvalid_ind = d[\"Indicator Name\"][d[str(year)]==d[str(year)]].tolist()\n",
    "\t\tfor i in range(len(valid_ind)):\n",
    "\t\t\tindicator_list.append(valid_ind[i])\n",
    "\t\tindicator_set = set(indicator_list)\n",
    "\t\tindicator_list = list(indicator_set)\n",
    "\n",
    "\tindex_list = []\n",
    "\tfor i in indicator_list:\n",
    "\t\tindex_list.append(indicators.index(i))\n",
    "\n",
    "\tdata_subset = data[data[\"Country Name\"].isin(countries)]\n",
    "\tcurr_year = data_subset[str(year)]\n",
    "\trow_list = []\n",
    "\tfor i in range(len(countries)):\n",
    "\t\trow = curr_year[i*len(indicators):(i+1)*len(indicators)]\n",
    "\t\trow = row.tolist()\n",
    "\t\trow_subset = []\n",
    "\t\tfor i in index_list:\n",
    "\t\t\trow_subset.append(row[i])\n",
    "\t\trow_list.append(row_subset)\n",
    "\n",
    "\tdf = pd.DataFrame(row_list)\n",
    "\tdf.columns = indicator_list\n",
    "\tdf.index = countries\n",
    "\n",
    "\treturn df\n",
    "\n",
    "\n",
    "directory = \"../education-statistics/EdStatsData.csv\"\n",
    "data = pd.read_csv(directory,sep=\",\")\n",
    "df = format_data(data,2010,800)"
   ]
  },
  {
   "cell_type": "code",
   "execution_count": 25,
   "metadata": {},
   "outputs": [],
   "source": [
    "#drops columns that don't have more than 10 values\n",
    "df = df.dropna(axis=1, thresh = df.shape[0] - 10)"
   ]
  },
  {
   "cell_type": "code",
   "execution_count": 30,
   "metadata": {},
   "outputs": [
    {
     "data": {
      "text/plain": [
       "Index(['Wittgenstein Projection: Percentage of the population age 25+ by highest level of educational attainment. Lower Secondary. Male',\n",
       "       'Population, ages 11-17, total', 'Population, ages 11-15, male',\n",
       "       'Wittgenstein Projection: Mean years of schooling. Age 0-19. Total',\n",
       "       'Wittgenstein Projection: Population in thousands by highest level of educational attainment. Post Secondary. Total',\n",
       "       'GDP at market prices (constant 2005 US$)',\n",
       "       'Wittgenstein Projection: Population age 25-29 in thousands by highest level of educational attainment. Post Secondary. Female',\n",
       "       'Population, ages 11-16, male',\n",
       "       'Wittgenstein Projection: Percentage of the population age 20-24 by highest level of educational attainment. Lower Secondary. Male',\n",
       "       'Population, ages 14-19, male',\n",
       "       ...\n",
       "       'Wittgenstein Projection: Population age 25-29 in thousands by highest level of educational attainment. Lower Secondary. Female',\n",
       "       'Population, ages 5-11, total', 'Population, ages 7-9, female',\n",
       "       'Population, ages 12-16, male',\n",
       "       'Wittgenstein Projection: Population age 25-29 in thousands by highest level of educational attainment. Lower Secondary. Male',\n",
       "       'Population, ages 12-17, male', 'Population, ages 6-12, male',\n",
       "       'Population of the official age for tertiary education, male (number)',\n",
       "       'Population, ages 14-18, female',\n",
       "       'Wittgenstein Projection: Population age 15-19 in thousands by highest level of educational attainment. Upper Secondary. Male'],\n",
       "      dtype='object', length=557)"
      ]
     },
     "execution_count": 30,
     "metadata": {},
     "output_type": "execute_result"
    }
   ],
   "source": [
    "#all column labels\n",
    "df.columns"
   ]
  },
  {
   "cell_type": "code",
   "execution_count": null,
   "metadata": {},
   "outputs": [],
   "source": []
  }
 ],
 "metadata": {
  "kernelspec": {
   "display_name": "Python 3",
   "language": "python",
   "name": "python3"
  },
  "language_info": {
   "codemirror_mode": {
    "name": "ipython",
    "version": 3
   },
   "file_extension": ".py",
   "mimetype": "text/x-python",
   "name": "python",
   "nbconvert_exporter": "python",
   "pygments_lexer": "ipython3",
   "version": "3.6.6"
  }
 },
 "nbformat": 4,
 "nbformat_minor": 2
}
