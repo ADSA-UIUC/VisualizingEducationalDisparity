{
 "cells": [
  {
   "cell_type": "code",
   "execution_count": 2,
   "metadata": {},
   "outputs": [],
   "source": [
    "import numpy as np\n",
    "import pandas as pd\n",
    "import matplotlib.pyplot as plt\n",
    "\n",
    "def format_data(data,year,threshold):\n",
    "\t'''\n",
    "\tThis function returns a dataset with countries as rows, and \n",
    "\tindicators (e.g population, attendance rate, etc) as columns.\n",
    "\n",
    "\tThe year parameter specifies which year that information comes from.\n",
    "\t(I noticed that 2010 and 2015 have a decent amount of data).\n",
    "\n",
    "\tMany of the countries don't have much data, so I included a threshold.\n",
    "\tIf the threshold is 800, for instance, that means every country\n",
    "\tincluded in the dataset must have a non-empty value for at least 800 out\n",
    "\tof ~3600 attributes.\n",
    "\t\n",
    "\t'''\n",
    "\tcountry_names = data[\"Country Name\"].unique()\n",
    "\tcountry_names = country_names[25:]\n",
    "\tcountry_names = country_names.tolist()\n",
    "\tcountries = []\n",
    "\tfor i in range(len(country_names)):\n",
    "\t\td = data[data[\"Country Name\"] == country_names[i]]\n",
    "\t\tif len(d[str(year)][d[str(year)]==d[str(year)]]) > threshold:\n",
    "\t\t\tcountries.append(country_names[i])\n",
    "\n",
    "\tindicators = data[\"Indicator Name\"].unique().tolist()\n",
    "\n",
    "\tindicator_list = []\n",
    "\n",
    "\tfor i in countries:\n",
    "\t\td = data[data[\"Country Name\"] == i]\n",
    "\t\tvalid_ind = d[\"Indicator Name\"][d[str(year)]==d[str(year)]].tolist()\n",
    "\t\tfor i in range(len(valid_ind)):\n",
    "\t\t\tindicator_list.append(valid_ind[i])\n",
    "\t\tindicator_set = set(indicator_list)\n",
    "\t\tindicator_list = list(indicator_set)\n",
    "\n",
    "\tindex_list = []\n",
    "\tfor i in indicator_list:\n",
    "\t\tindex_list.append(indicators.index(i))\n",
    "\n",
    "\tdata_subset = data[data[\"Country Name\"].isin(countries)]\n",
    "\tcurr_year = data_subset[str(year)]\n",
    "\trow_list = []\n",
    "\tfor i in range(len(countries)):\n",
    "\t\trow = curr_year[i*len(indicators):(i+1)*len(indicators)]\n",
    "\t\trow = row.tolist()\n",
    "\t\trow_subset = []\n",
    "\t\tfor i in index_list:\n",
    "\t\t\trow_subset.append(row[i])\n",
    "\t\trow_list.append(row_subset)\n",
    "\n",
    "\tdf = pd.DataFrame(row_list)\n",
    "\tdf.columns = indicator_list\n",
    "\tdf.index = countries\n",
    "\n",
    "\treturn df\n",
    "\n",
    "\n",
    "directory = \"../education-statistics/EdStatsData.csv\"\n",
    "data = pd.read_csv(directory,sep=\",\")\n",
    "df = format_data(data,2010,800)"
   ]
  },
  {
   "cell_type": "code",
   "execution_count": 3,
   "metadata": {},
   "outputs": [],
   "source": [
    "#drops columns that don't have more than 10 values\n",
    "df = df.dropna(axis=1, thresh = df.shape[0] - 10)"
   ]
  },
  {
   "cell_type": "code",
   "execution_count": 52,
   "metadata": {},
   "outputs": [],
   "source": [
    "data = df.values\n",
    "data = data.transpose()"
   ]
  },
  {
   "cell_type": "code",
   "execution_count": 58,
   "metadata": {},
   "outputs": [],
   "source": [
    "data = list(data)\n",
    "\n",
    "for i in range(len(data)):\n",
    "    data[i] = [d for d in data[i] if not np.isnan(d)]"
   ]
  },
  {
   "cell_type": "code",
   "execution_count": null,
   "metadata": {},
   "outputs": [],
   "source": [
    "for i in range(len(data)):\n",
    "    plt.boxplot(data[i])\n",
    "    plt.savefig(\"./boxplots/\" + df.columns[i] + \".png\")\n",
    "    plt.close()"
   ]
  },
  {
   "cell_type": "code",
   "execution_count": null,
   "metadata": {},
   "outputs": [],
   "source": []
  }
 ],
 "metadata": {
  "kernelspec": {
   "display_name": "Python 3",
   "language": "python",
   "name": "python3"
  },
  "language_info": {
   "codemirror_mode": {
    "name": "ipython",
    "version": 3
   },
   "file_extension": ".py",
   "mimetype": "text/x-python",
   "name": "python",
   "nbconvert_exporter": "python",
   "pygments_lexer": "ipython3",
   "version": "3.6.6"
  }
 },
 "nbformat": 4,
 "nbformat_minor": 2
}
